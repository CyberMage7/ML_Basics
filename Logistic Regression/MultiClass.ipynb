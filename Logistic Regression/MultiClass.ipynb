{
 "cells": [
  {
   "cell_type": "markdown",
   "metadata": {},
   "source": [
    "## Muticlass Classification Problem "
   ]
  },
  {
   "cell_type": "code",
   "execution_count": 1,
   "metadata": {},
   "outputs": [],
   "source": [
    "import pandas as pd\n",
    "import numpy as np\n",
    "import matplotlib.pyplot as plt\n",
    "import seaborn as sns"
   ]
  },
  {
   "cell_type": "code",
   "execution_count": 2,
   "metadata": {},
   "outputs": [],
   "source": [
    "from sklearn.datasets import make_classification"
   ]
  },
  {
   "cell_type": "code",
   "execution_count": 4,
   "metadata": {},
   "outputs": [],
   "source": [
    "X,y=make_classification(n_samples=1000,n_features=10,n_informative=3,n_classes=3,random_state=42)"
   ]
  },
  {
   "cell_type": "code",
   "execution_count": 6,
   "metadata": {},
   "outputs": [
    {
     "data": {
      "text/plain": [
       "array([1, 2, 1, 1, 2, 1, 1, 0, 2, 2, 2, 0, 1, 0, 2, 1, 2, 1, 0, 1, 1, 1,\n",
       "       2, 2, 1, 2, 2, 0, 1, 2, 0, 1, 0, 2, 0, 1, 0, 0, 2, 0, 1, 0, 2, 1,\n",
       "       2, 0, 2, 0, 2, 0, 0, 0, 2, 1, 1, 1, 1, 2, 0, 0, 2, 1, 0, 0, 1, 2,\n",
       "       0, 2, 2, 1, 0, 1, 1, 1, 2, 2, 2, 1, 2, 2, 2, 2, 2, 2, 0, 0, 0, 0,\n",
       "       0, 1, 1, 2, 1, 0, 1, 2, 0, 2, 0, 0, 2, 1, 0, 2, 0, 2, 2, 0, 2, 0,\n",
       "       0, 0, 0, 2, 1, 2, 1, 0, 2, 0, 0, 2, 1, 0, 2, 1, 0, 0, 2, 2, 0, 0,\n",
       "       0, 2, 1, 2, 2, 0, 2, 0, 1, 2, 1, 2, 1, 1, 2, 0, 0, 1, 0, 2, 0, 0,\n",
       "       0, 1, 1, 2, 1, 2, 2, 0, 0, 0, 1, 1, 0, 2, 1, 2, 2, 2, 1, 1, 0, 2,\n",
       "       1, 0, 2, 1, 2, 1, 2, 0, 1, 1, 0, 2, 2, 2, 2, 0, 2, 0, 0, 0, 0, 2,\n",
       "       1, 2, 1, 1, 0, 2, 2, 2, 2, 2, 2, 2, 1, 1, 1, 2, 2, 0, 2, 2, 2, 0,\n",
       "       2, 0, 1, 1, 2, 1, 2, 2, 2, 2, 0, 1, 0, 0, 0, 0, 2, 2, 2, 1, 1, 1,\n",
       "       0, 2, 0, 0, 1, 0, 2, 0, 1, 2, 2, 2, 1, 2, 1, 0, 1, 1, 1, 2, 2, 2,\n",
       "       2, 2, 2, 0, 0, 0, 2, 1, 1, 1, 1, 2, 1, 2, 2, 1, 2, 1, 0, 0, 2, 2,\n",
       "       2, 1, 1, 1, 2, 0, 0, 0, 0, 1, 0, 0, 2, 1, 1, 1, 0, 0, 0, 2, 0, 2,\n",
       "       2, 1, 1, 0, 2, 2, 2, 1, 2, 1, 0, 0, 0, 0, 0, 0, 2, 2, 1, 2, 0, 2,\n",
       "       1, 0, 1, 1, 1, 0, 2, 0, 2, 1, 0, 0, 0, 2, 0, 1, 2, 0, 1, 1, 0, 2,\n",
       "       1, 1, 1, 0, 2, 0, 0, 0, 2, 0, 1, 1, 2, 2, 2, 2, 0, 2, 0, 2, 1, 2,\n",
       "       2, 1, 1, 2, 0, 2, 2, 2, 1, 2, 1, 1, 0, 2, 1, 0, 1, 2, 0, 2, 2, 0,\n",
       "       1, 2, 0, 0, 2, 2, 0, 0, 2, 0, 1, 0, 2, 2, 0, 1, 2, 2, 0, 1, 2, 2,\n",
       "       0, 2, 1, 0, 1, 1, 1, 0, 2, 0, 1, 1, 1, 2, 0, 1, 1, 2, 2, 1, 1, 1,\n",
       "       0, 0, 2, 1, 0, 1, 1, 2, 0, 1, 0, 2, 2, 1, 1, 0, 2, 1, 2, 1, 0, 0,\n",
       "       0, 1, 2, 0, 2, 2, 0, 2, 0, 0, 0, 0, 1, 2, 2, 1, 2, 2, 1, 1, 0, 2,\n",
       "       1, 1, 0, 2, 1, 2, 1, 0, 1, 2, 2, 2, 2, 0, 2, 1, 1, 0, 2, 0, 1, 1,\n",
       "       0, 0, 1, 2, 0, 2, 0, 0, 0, 0, 0, 1, 1, 1, 2, 1, 1, 1, 1, 2, 2, 1,\n",
       "       1, 1, 2, 0, 1, 1, 1, 2, 1, 0, 2, 2, 2, 0, 2, 0, 0, 0, 2, 2, 1, 0,\n",
       "       1, 2, 1, 2, 1, 1, 2, 1, 2, 0, 0, 1, 0, 1, 2, 1, 1, 2, 2, 1, 2, 0,\n",
       "       1, 2, 0, 2, 0, 2, 1, 2, 2, 1, 1, 0, 1, 0, 1, 0, 0, 1, 2, 1, 1, 1,\n",
       "       1, 1, 2, 1, 0, 1, 0, 0, 0, 2, 0, 2, 0, 0, 2, 1, 1, 2, 1, 0, 1, 0,\n",
       "       0, 1, 1, 1, 0, 2, 1, 2, 0, 0, 1, 0, 2, 1, 2, 2, 0, 2, 1, 2, 2, 0,\n",
       "       0, 2, 2, 2, 1, 2, 1, 2, 0, 1, 0, 2, 2, 2, 2, 0, 1, 2, 2, 1, 2, 1,\n",
       "       2, 0, 1, 1, 0, 0, 1, 1, 1, 2, 0, 2, 1, 0, 0, 0, 2, 2, 2, 2, 2, 1,\n",
       "       1, 2, 2, 1, 2, 1, 0, 1, 2, 0, 1, 1, 1, 1, 1, 0, 0, 1, 0, 2, 0, 2,\n",
       "       0, 0, 0, 2, 0, 0, 2, 2, 1, 0, 0, 2, 0, 2, 0, 0, 1, 1, 2, 2, 1, 1,\n",
       "       1, 2, 2, 0, 0, 2, 2, 1, 2, 0, 0, 1, 1, 2, 0, 0, 2, 0, 1, 2, 1, 0,\n",
       "       1, 0, 1, 0, 2, 2, 0, 2, 0, 2, 1, 0, 2, 1, 2, 1, 1, 2, 0, 2, 0, 1,\n",
       "       2, 2, 0, 1, 0, 1, 1, 2, 1, 1, 1, 2, 1, 0, 2, 1, 1, 2, 0, 1, 1, 0,\n",
       "       0, 0, 1, 2, 2, 0, 1, 2, 2, 0, 2, 1, 0, 0, 1, 2, 0, 1, 2, 2, 1, 2,\n",
       "       0, 1, 0, 2, 0, 0, 2, 1, 1, 0, 2, 2, 0, 0, 0, 1, 0, 0, 0, 2, 0, 1,\n",
       "       0, 1, 0, 1, 2, 2, 0, 0, 1, 0, 0, 0, 0, 0, 1, 1, 2, 0, 1, 0, 0, 0,\n",
       "       0, 0, 0, 1, 1, 2, 2, 2, 1, 1, 0, 1, 0, 0, 2, 0, 2, 0, 2, 2, 0, 0,\n",
       "       1, 2, 1, 1, 0, 1, 1, 1, 0, 0, 1, 0, 1, 1, 2, 1, 0, 1, 1, 2, 2, 1,\n",
       "       0, 0, 0, 1, 0, 0, 2, 2, 0, 0, 0, 0, 0, 1, 0, 2, 1, 2, 1, 2, 0, 0,\n",
       "       0, 0, 2, 1, 0, 2, 1, 0, 2, 0, 2, 2, 1, 1, 1, 1, 1, 1, 1, 1, 2, 0,\n",
       "       1, 2, 0, 0, 0, 1, 1, 1, 0, 0, 0, 0, 1, 0, 1, 2, 0, 0, 1, 1, 2, 2,\n",
       "       1, 1, 1, 1, 2, 0, 1, 2, 1, 0, 1, 2, 0, 0, 1, 0, 2, 1, 1, 2, 1, 0,\n",
       "       1, 0, 1, 2, 0, 2, 1, 1, 1, 1])"
      ]
     },
     "execution_count": 6,
     "metadata": {},
     "output_type": "execute_result"
    }
   ],
   "source": [
    "y"
   ]
  },
  {
   "cell_type": "code",
   "execution_count": 7,
   "metadata": {},
   "outputs": [],
   "source": [
    "from sklearn.model_selection import train_test_split\n",
    "X_train,X_test,y_train,y_test=train_test_split(X,y,test_size=0.30,random_state=42)"
   ]
  },
  {
   "cell_type": "code",
   "execution_count": 8,
   "metadata": {},
   "outputs": [],
   "source": [
    "from sklearn.linear_model import LogisticRegression\n",
    "logistic=LogisticRegression(multi_class='ovr')\n",
    "logistic.fit(X_train,y_train)\n",
    "y_pred=logistic.predict(X_test)"
   ]
  },
  {
   "cell_type": "code",
   "execution_count": 9,
   "metadata": {},
   "outputs": [
    {
     "data": {
      "text/plain": [
       "array([2, 0, 1, 2, 0, 1, 2, 0, 0, 2, 2, 2, 2, 2, 2, 2, 2, 1, 0, 0, 0, 0,\n",
       "       2, 0, 1, 0, 2, 1, 0, 2, 2, 0, 1, 0, 0, 2, 2, 2, 1, 0, 0, 1, 2, 0,\n",
       "       1, 2, 1, 0, 1, 1, 2, 0, 1, 0, 2, 2, 2, 2, 1, 2, 0, 2, 2, 2, 1, 1,\n",
       "       0, 1, 0, 1, 0, 2, 2, 0, 0, 0, 2, 1, 1, 2, 2, 0, 2, 1, 0, 1, 1, 2,\n",
       "       1, 1, 2, 2, 1, 2, 2, 2, 1, 0, 0, 0, 0, 2, 1, 0, 2, 1, 1, 0, 0, 2,\n",
       "       0, 1, 2, 0, 0, 0, 1, 1, 2, 2, 1, 0, 0, 1, 2, 0, 0, 1, 0, 2, 1, 0,\n",
       "       2, 2, 2, 0, 0, 1, 2, 1, 2, 1, 2, 1, 2, 2, 2, 0, 0, 1, 2, 0, 0, 2,\n",
       "       1, 0, 0, 0, 2, 0, 0, 0, 2, 2, 2, 2, 2, 1, 2, 1, 0, 2, 1, 0, 0, 2,\n",
       "       0, 1, 1, 2, 2, 0, 0, 2, 0, 0, 0, 2, 0, 0, 0, 0, 2, 1, 2, 2, 1, 2,\n",
       "       0, 1, 2, 2, 1, 1, 0, 2, 1, 2, 2, 2, 2, 2, 0, 0, 0, 0, 0, 0, 1, 0,\n",
       "       1, 2, 2, 2, 0, 0, 0, 0, 0, 2, 2, 0, 0, 2, 2, 1, 0, 1, 2, 0, 0, 2,\n",
       "       0, 2, 0, 0, 2, 2, 0, 2, 2, 0, 1, 2, 2, 0, 1, 1, 0, 1, 2, 0, 2, 2,\n",
       "       0, 0, 0, 2, 1, 2, 0, 2, 2, 2, 0, 2, 0, 2, 2, 0, 0, 1, 0, 2, 2, 2,\n",
       "       0, 2, 2, 0, 2, 2, 0, 2, 0, 0, 2, 2, 0, 1])"
      ]
     },
     "execution_count": 9,
     "metadata": {},
     "output_type": "execute_result"
    }
   ],
   "source": [
    "y_pred"
   ]
  },
  {
   "cell_type": "code",
   "execution_count": 10,
   "metadata": {},
   "outputs": [
    {
     "name": "stdout",
     "output_type": "stream",
     "text": [
      "0.68\n",
      "              precision    recall  f1-score   support\n",
      "\n",
      "           0       0.77      0.70      0.73       113\n",
      "           1       0.40      0.58      0.47        65\n",
      "           2       0.86      0.71      0.78       122\n",
      "\n",
      "    accuracy                           0.68       300\n",
      "   macro avg       0.67      0.67      0.66       300\n",
      "weighted avg       0.72      0.68      0.70       300\n",
      "\n",
      "[[79 31  3]\n",
      " [16 38 11]\n",
      " [ 8 27 87]]\n"
     ]
    }
   ],
   "source": [
    "from sklearn.metrics import accuracy_score,classification_report,confusion_matrix\n",
    "score=accuracy_score(y_pred,y_test)\n",
    "print(score)\n",
    "print(classification_report(y_pred,y_test))\n",
    "print(confusion_matrix(y_pred,y_test))\n"
   ]
  },
  {
   "cell_type": "code",
   "execution_count": null,
   "metadata": {},
   "outputs": [],
   "source": []
  }
 ],
 "metadata": {
  "kernelspec": {
   "display_name": "base",
   "language": "python",
   "name": "python3"
  },
  "language_info": {
   "codemirror_mode": {
    "name": "ipython",
    "version": 3
   },
   "file_extension": ".py",
   "mimetype": "text/x-python",
   "name": "python",
   "nbconvert_exporter": "python",
   "pygments_lexer": "ipython3",
   "version": "3.12.4"
  }
 },
 "nbformat": 4,
 "nbformat_minor": 2
}
